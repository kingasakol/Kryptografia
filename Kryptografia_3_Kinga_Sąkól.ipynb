{
  "nbformat": 4,
  "nbformat_minor": 0,
  "metadata": {
    "colab": {
      "provenance": []
    },
    "kernelspec": {
      "name": "python3",
      "display_name": "Python 3"
    },
    "language_info": {
      "name": "python"
    }
  },
  "cells": [
    {
      "cell_type": "markdown",
      "source": [
        "# RSA\n",
        "\n",
        "Rivest Shamir Adleman (RSA) jest jednym z pierwszych algorytmów asymetrycznych. Został zaprojektowany w 1977 roku i jest używany do dzisiejszego dnia. Zyskał akceptację zarówno NISTu jak i organizacji ISO/IEC oraz RFC. RSA posiada parę kluczy - publiczny oraz prywatny. Publiczny klucz może być znany każdemu i służy on do operacji szyfrowania. Klucz prywatny jest znany tylko i wyłącznie instancji, która klucze generowała. Ta sama instancja jako jedna jedyna ma możliwość odszyfrowania kryptogramów.\n",
        "\n",
        "RSA umożliwia także tworzenie podpisów cyfrowych (z ang *Digital Signatures*, czyli *DS*). Podpis cyfrowy to dodatkowy blok informacji dołączony do wiadomości, który zapewnia:\n",
        "1. *Integrity* - integralność wiadomości, czyli potwierdzenie, że nie była ona w żaden sposób modyfikowana.\n",
        "2. *Authentication* - autentykacje podpisującego, czyli potwierdzenie jego tożsamości.\n",
        "3. *Non-repudiation* - czyli wysyłający podpisaną wiadomość nie ma możliwości zaprzeczenia faktu, że to on ją podpisał, natomiast otrzymujący wiadomość nie ma możliwości zaprzeczenia faktu, iż to on ją zweryfikował. \n",
        "\n",
        "Samo haszowanie wiadomości zapewnia tylko *integirty*, natomiast utworzenie kodu MAC (*Message Authentiaction Code*) zapewnia jedynie *integrity* oraz *authentiaction*.\n",
        "\n",
        "Tworzenie podpisu cyfrowego z wykorzystaniem RSA wygląda odwrotnie niż komunikacja szyfrowana. To znaczy: podpis tworzony jest z wykorzystaniem klucza prywatnego - a więc tylko instancja generująca klucze może wiadomość podpisać. Weryfikacja odbywa się z wykorzystaniem klucza publicznego - czyli każda instancja, której nasz klucz udostępnimy, może podpis zweryfikować. \n",
        "\n",
        "Na początek zaimportujmy niezbędne biblioteki."
      ],
      "metadata": {
        "id": "O4N_EaD6qK27"
      }
    },
    {
      "cell_type": "code",
      "source": [
        "!pip install pycryptodome\n",
        "import Crypto.Util.number as cu\n",
        "import hashlib as hl\n",
        "import math"
      ],
      "metadata": {
        "id": "F7OxWY2Mz7BD",
        "colab": {
          "base_uri": "https://localhost:8080/"
        },
        "outputId": "6178ef85-8f31-4511-c110-5a1929347ba1"
      },
      "execution_count": null,
      "outputs": [
        {
          "output_type": "stream",
          "name": "stdout",
          "text": [
            "Looking in indexes: https://pypi.org/simple, https://us-python.pkg.dev/colab-wheels/public/simple/\n",
            "Collecting pycryptodome\n",
            "  Downloading pycryptodome-3.17-cp35-abi3-manylinux_2_17_x86_64.manylinux2014_x86_64.whl (2.1 MB)\n",
            "\u001b[2K     \u001b[90m━━━━━━━━━━━━━━━━━━━━━━━━━━━━━━━━━━━━━━━━\u001b[0m \u001b[32m2.1/2.1 MB\u001b[0m \u001b[31m15.8 MB/s\u001b[0m eta \u001b[36m0:00:00\u001b[0m\n",
            "\u001b[?25hInstalling collected packages: pycryptodome\n",
            "Successfully installed pycryptodome-3.17\n"
          ]
        }
      ]
    },
    {
      "cell_type": "markdown",
      "source": [
        "**Zadanie 1**\n",
        "\n",
        "Odpowiedz na poniższe pytania. Rozważ sytuację, w której dwie instancje komunikują się ze sobą, a trzecia próbuje dokonywać nieautoryzowanych zmian w treści wiadomości na drodze jej przesyłu.\n",
        "1. Dlaczego haszowanie zapewnia tylko integrity? Podpowiedź: czy haszowanie uwzględnia jakikolwiek klucz prywatny?\n",
        "2. Dlaczego kod MAC nie zapewnia *non-repudiation*? Co (niepożądanego) może dokonać odbierający wiadomość i atakujący komunikację? Podpowiedź: czy kody MAC, w szczególności popularny kod HMAC - który zakłada użycie klucza prywatnego - w jakikolwiek sposób weryfikuje KTO i DO CZEGO go użył? Kto dysponuje, a kto NIE dysponuje kluczem prywatnym HMAC?\n",
        "3. Dlaczego podpis cyfrowy zapewnia wszystkie te trzy cechy?"
      ],
      "metadata": {
        "id": "64vuvjiEuP3M"
      }
    },
    {
      "cell_type": "markdown",
      "source": [
        "## Generowanie kluczy\n",
        "\n",
        "Algorytm generowania kluczy RSA może zostać przedstawiony w następujący sposób:\n",
        "\n",
        "1) Znajdź dwie różne i kryptograficznie bezpieczne liczby pierwsze.\n",
        "\n",
        "2) Oblicz $n = p * q$.\n",
        "\n",
        "3) Oblicz $f = (p - 1) * (q - 1)$.\n",
        "\n",
        "4) Znajdź dowolne $e$, takie, że $1 < e < f$ oraz $GCD(f, e) = 1$. GCD to największy wspólny dzielnik. Para $(e, n)$ to jest **klucz publiczny**.\n",
        "\n",
        "5) Oblicz $d = e^{-1}$ mod $f$. Para $(d, n)$ to **klucz prywatny**, przy czym tajne jest tylko $d$. "
      ],
      "metadata": {
        "id": "2qE7Uzp2xXKM"
      }
    },
    {
      "cell_type": "markdown",
      "source": [
        "W ten sposób generowane parametry byłyby matematycznie poprawne, lecz kryptograficznie niebezpieczne. Ustalmy więc, że chcemy aby nasz klucz publiczny był odpwowiednio długi. Będzie to długość bitowa parametru $n$, oznaczmy ją jako $nlen = 2048$. Parametr $nlen$ zawsze przyjmuje parzyste wartości. Mając to założenie, musimy (**uwzględniając wszystkie założenia z algorytmu generowania kluczy**) dodatkowo zapewnić, że:\n",
        "\n",
        "1. $65537 ≤ e < 2^{256}$\n",
        "2. $LCM(p - 1, q - 1) \\geq e * 2^{nlen/2}$\n",
        "3. $2^{(nlen - 1)//2} < p < 2^{nlen/2}$\n",
        "4. $2^{(nlen - 1)//2} < q < 2^{nlen/2}$\n",
        "5. $|p - q| > 2^{(nlen/2) - 100}$\n",
        "\n",
        "Gdzie LCM oznacza *Least Common Multiple*, czyli najmniejszą wspólną wielokrotność. Funkcję LCM znajdziesz w bibliotece math. Do potęgowania **nie używaj** pythonowej notacji \"**\", tylko metody pow() - przetestuj obie te metody obliczania potęgi i porównaj wydajność (zadanie opcjonalne). Do obliczania wartości bezwzględnej użyj metody abs() - również standardowa metoda pythona. Resztę niezbędnych metod znajdziesz w bibliotece [Crypto.Util.number](https://pycryptodome.readthedocs.io/en/latest/src/util/util.html) zaimpoertowanej jako cu. Opis powyższych założeń możesz znaleźć w [tym](https://nvlpubs.nist.gov/nistpubs/SpecialPublications/NIST.SP.800-56Br2.pdf) dokumencie NIST-owym."
      ],
      "metadata": {
        "id": "1MRcuBhC0UHA"
      }
    },
    {
      "cell_type": "markdown",
      "source": [
        "**Zadanie 2**\n",
        "\n",
        "Uwzględniając wszystko powyższe, napisz metodę/metody generujące wartości $n$, $e$ oraz $d$."
      ],
      "metadata": {
        "id": "5inlXTklGGMv"
      }
    },
    {
      "cell_type": "code",
      "source": [
        "# your code here\n",
        "nlen = 2048\n",
        "\n",
        "def generate_keys():\n",
        "  p = cu.getStrongPrime(nlen // 2)\n",
        "  q = cu.getStrongPrime(nlen // 2)\n",
        "  # 3, 4, 5\n",
        "  while p <= pow(2, (nlen - 1) // 2) or q <= pow(2, (nlen - 1) // 2) or abs(p - q) <= pow(2, nlen / 2 - 100):\n",
        "      p = cu.getStrongPrime(nlen // 2)\n",
        "      q = cu.getStrongPrime(nlen // 2)\n",
        "      \n",
        "  n = p * q\n",
        "  f = (p - 1) * (q - 1)\n",
        "  \n",
        "  # 1, 2\n",
        "  e = cu.getRandomRange(65537, min(f, pow(2, 256)))\n",
        "  while cu.GCD(f, e) != 1 or math.lcm(p - 1, q - 1) < e * pow(2, nlen // 2):\n",
        "        e = cu.getRandomRange(65537, min(f, pow(2, 256)))  \n",
        "  \n",
        "  d = pow(e, -1, f)\n",
        "  \n",
        "  return (e, d, n)\n"
      ],
      "metadata": {
        "id": "tRiOWsS7GRL9"
      },
      "execution_count": null,
      "outputs": []
    },
    {
      "cell_type": "markdown",
      "source": [
        "## Naiwne szyfrowanie i deszyfrowanie"
      ],
      "metadata": {
        "id": "wae-whoNGlz_"
      }
    },
    {
      "cell_type": "markdown",
      "source": [
        "\n",
        "Naiwny algorytm szyfrowania wiadomości **M** z wykorzystaniem RSA:\n",
        "\n",
        "1) Zakoduj $M$ jako liczbę.\n",
        "\n",
        "2) Oblicz: $C = M^e$ mod $n$."
      ],
      "metadata": {
        "id": "fESNrzCYNVfy"
      }
    },
    {
      "cell_type": "markdown",
      "source": [
        "Naiwny algorytm deszyfrowania kryptogramu **C** z wykorzystaniem RSA:\n",
        "\n",
        "1) $M = C^d$ mod $n$.\n",
        "\n",
        "2) Zdekoduj wiadomość $M$ do jej pierwotnej postaci (np. stringa). \n"
      ],
      "metadata": {
        "id": "FQvVgWWrHBX2"
      }
    },
    {
      "cell_type": "markdown",
      "source": [
        "**Zadanie 3**\n",
        "\n",
        "Napisz metody szyfrujące i deszyfrujące wiadomość $M$ zgodnie z powyższym algorytmem. Zaszyfruj wiadomość, zdeszyfruj i wypisz oryginalny tekst na ekranie. Odpowiedz na pytanie: jaki warunek musi spełniać liczbowa reprezentacja wiadomości $M$, aby można ją było poprawnie zaszyfrować i zdeszyfrować?"
      ],
      "metadata": {
        "id": "mFRFP0BsHc9l"
      }
    },
    {
      "cell_type": "code",
      "source": [
        "M = \"Ala ma kota\"\n",
        "# Your code here\n",
        "\n",
        "e, d, n = generate_keys()\n",
        "\n",
        "C = pow(int.from_bytes(M.encode('utf-8'), 'big'), e, n)\n",
        "M_encoded = C.to_bytes(math.ceil(C.bit_length() / 8), 'big')\n",
        "\n",
        "print(M_encoded.hex())\n",
        "\n",
        "\n",
        "t = pow(int.from_bytes(M_encoded, 'big'), d, n)\n",
        "M_decoded = t.to_bytes(math.ceil(t.bit_length() / 8), 'big').decode('utf-8')\n",
        "\n",
        "print(M_decoded)\n"
      ],
      "metadata": {
        "id": "N3y7NMf_HkuB",
        "colab": {
          "base_uri": "https://localhost:8080/"
        },
        "outputId": "b2e3e7d2-667a-4d5f-bde1-9d739da28419"
      },
      "execution_count": null,
      "outputs": [
        {
          "output_type": "stream",
          "name": "stdout",
          "text": [
            "6ecac16d0f5740fb911445b77c86e6f67e5d338f3f29e9ff8e758b9aa0bc2be233a8c4540498dff363ec1d71e7a441fedf73857e19cbe65964fa9f3966f3994b0a9056fd59b7fafbf99a1f98328b2998560c7b97cb4970ed8681a3b70ac7bd7284867178676f787effc23704b7b2045d9e3f24f947f1ad61031816998462646f0562c89e91817df8a5fd21a23a0df3ee62217449a201f384ef28bcfe2b0495ebe29e34b5adbd67c6606ad86cbf3503b08669e1a40ff013ae7bd77a45047d32a59976598b918e424e7dbd4599ff4c3bcf64f2e7c64ec65edc33787c8ea0c91f472711c388db8f2c572047a1022569f1b37a4832292107c54f3379148a3ccf3405\n",
            "Ala ma kota\n"
          ]
        }
      ]
    },
    {
      "cell_type": "markdown",
      "source": [
        "## Naiwny schemat podpisu cyfrowego"
      ],
      "metadata": {
        "id": "NjF8Fr_dN0s6"
      }
    },
    {
      "cell_type": "markdown",
      "source": [
        "Naiwna metoda tworzenia podpisu z wiadmości $M$:\n",
        "\n",
        "1) Oblicz $h = H(M)$. H to uzgodniona funkcja skrótu, niech to będzie SHA-256.\n",
        "\n",
        "2) Zakoduj $h$ jako liczbę.\n",
        "\n",
        "3) Oblicz $SIG = h^d$ mod $n$.\n",
        "\n",
        "4) Wyślij parę $(M, SIG)$ weryfikującemu."
      ],
      "metadata": {
        "id": "AsvkSf9zN4i8"
      }
    },
    {
      "cell_type": "markdown",
      "source": [
        "Naiwna metoda weryfikacji podpisu $(M, SIG)$:\n",
        "\n",
        "1) Oblicz $h = H(M)$. H to uzgodniona funkcja skrótu, niech to będzie SHA-256.\n",
        "\n",
        "2) Zakoduj $h$ jako liczbę.\n",
        "\n",
        "3) Oblicz $VER = SIG^e$ mod $n$.\n",
        "\n",
        "4) Jeżeli $VER = h$, weryfikacja przebiegła pomyślnie, a w przeciwnym razie niepomyślnie."
      ],
      "metadata": {
        "id": "xcMiT4DhOoOt"
      }
    },
    {
      "cell_type": "markdown",
      "source": [
        "**Zadanie 4**\n",
        "\n",
        "Zaimplementuj naiwną metodę tworzenia i weryfikowania podpisu cyfrowego RSA."
      ],
      "metadata": {
        "id": "Jx86zFg6PDDs"
      }
    },
    {
      "cell_type": "code",
      "source": [
        "# Your code here\n",
        "from hashlib import sha256\n",
        "\n",
        "def create_sign(m, d, n):\n",
        "  sha = sha256()\n",
        "  sha.update(m)\n",
        "  h = cu.bytes_to_long(sha.digest())\n",
        "  sig = pow(h, d, n)\n",
        "  return m, sig\n",
        "\n",
        "def verify_sign(m, sig, e, n):\n",
        "  sha = sha256()\n",
        "  sha.update(m)\n",
        "  h = cu.bytes_to_long(sha.digest())\n",
        "  ver = pow(sig, e, n)\n",
        "  return ver == h\n",
        "\n",
        "m, sig = create_sign(M.encode('utf-8'), d, n)\n",
        "print(verify_sign(m, sig, e, n))\n",
        "print(verify_sign(m + b'01', sig, e, n))"
      ],
      "metadata": {
        "id": "Y7OSfmf0PJ2Q",
        "colab": {
          "base_uri": "https://localhost:8080/"
        },
        "outputId": "562b47c2-426c-4ca3-e81c-0502a4d842da"
      },
      "execution_count": null,
      "outputs": [
        {
          "output_type": "stream",
          "name": "stdout",
          "text": [
            "True\n",
            "False\n"
          ]
        }
      ]
    },
    {
      "cell_type": "markdown",
      "source": [
        "## MGF 1\n",
        "\n",
        "W dalszej części laboratoriów będziemy potrzebowali generować maskę. Jedynym zatwierdzonym algorytmem który do tego służy jest *Mask Generation Function 1*, opisany w [RFC 8017](https://www.rfc-editor.org/rfc/rfc8017). Jest on stosunkowo prosty. "
      ],
      "metadata": {
        "id": "-6MsXDuaIj2C"
      }
    },
    {
      "cell_type": "markdown",
      "source": [
        "Parametry wejściowe:\n",
        "\n",
        "1) M - bajty wiadomości.\n",
        "\n",
        "2) len - pożądana długość zwórconej maski w bajtach.\n",
        "\n",
        "3) H - wybrana funkcja skrótu, zwracająca $n$ bitowy skrót. Niech to będzie SHA-256. Dla wygody przyjmijmy też, że $hlen = n / 8$ oznacza liczbę bajtów zwracaną przez naszą funkcję skrótu.\n",
        "\n",
        "Wyjściem funkcji są bajty tworzące maskę."
      ],
      "metadata": {
        "id": "wXuwYrpsJzkU"
      }
    },
    {
      "cell_type": "markdown",
      "source": [
        "Algorytm MGF-1:\n",
        "\n",
        "1) Dla 32-biotwego integera $i = 0, ..., ⌈ \\frac{len}{hlen}⌉ - 1$ wykonuj kroki 2 i 3.\n",
        "\n",
        "2) Oblicz tmp = H(M || i). Znak || to konkatenacja i chodzi tu o bajty wiadomości M oraz reprezentację w bajtach 32-bitowego itegera $i$.\n",
        "\n",
        "3) Oblicz output = output || tmp.\n",
        "\n",
        "4) Zwróc $len$ wiodących bajtów zmiennej output."
      ],
      "metadata": {
        "id": "oriQJLCvJ0vM"
      }
    },
    {
      "cell_type": "markdown",
      "source": [
        "**Zadanie 5**\n",
        "\n",
        "Zaprogramuj i przetestuj dla dowolnych wartości funkcję MGF1."
      ],
      "metadata": {
        "id": "o-AkA1mHK7cp"
      }
    },
    {
      "cell_type": "code",
      "source": [
        "# Your code here\n",
        "hlen = 32\n",
        "def MGF1(m, size, h=sha256):\n",
        "  output = bytearray()\n",
        "  for i in range(0, math.ceil(size / hlen)):\n",
        "    i_bytes = i.to_bytes(4, 'big')\n",
        "    tmp = sha256(m + i_bytes).digest()\n",
        "    output += tmp\n",
        "  return output[: size]\n",
        "\n",
        "\n",
        "test = MGF1(bytes.fromhex(\"00123212\"), 20)\n",
        "print(test.hex())\n",
        "print(len(test))"
      ],
      "metadata": {
        "id": "rrBuKJWZLCV9",
        "colab": {
          "base_uri": "https://localhost:8080/"
        },
        "outputId": "c9bfc132-80b3-4207-ae1c-f132e56dcd79"
      },
      "execution_count": null,
      "outputs": [
        {
          "output_type": "stream",
          "name": "stdout",
          "text": [
            "2eb85d5173c8dc56a0f0e3b20e42695f2bd71a68\n",
            "20\n"
          ]
        }
      ]
    },
    {
      "cell_type": "markdown",
      "source": [
        "## OAEP\n",
        "\n",
        "Nasz schemat ma na ten moment jedną sporą wadę, mianowicie rozmiar szyfrowanej wiadomości może być zbyt mały, czyniąc algorytm mniej bezpiecznym. Aby tego uniknąć, używamy algorytmu paddingu opisanego w [RFC 8017](https://www.rfc-editor.org/rfc/rfc8017#section-8), który zwie się *Optimal Assymetric Encryption Padding*."
      ],
      "metadata": {
        "id": "K3gM9vGyPtna"
      }
    },
    {
      "cell_type": "markdown",
      "source": [
        "### OAEP encoding"
      ],
      "metadata": {
        "id": "PFJW4wW5QjjH"
      }
    },
    {
      "cell_type": "markdown",
      "source": [
        "Parametry wejściowe:\n",
        "\n",
        "1) $H$ - funkcja skrótu SHA-256, oraz $hlen$ czyli długość zwracanego skrótu w bajtach.\n",
        "\n",
        "2) $k$ - długość liczby $n$ wyrażona w bajtach.\n",
        "\n",
        "3) $mlen$ - długość wiadomości wyrażona w bajtach.\n",
        "\n",
        "4) $M$ - bajty wiadomości.\n",
        "\n",
        "5) $mgf1$ - Mask Generation Function 1."
      ],
      "metadata": {
        "id": "0BTXF8j6Reel"
      }
    },
    {
      "cell_type": "markdown",
      "source": [
        "Algorytm:\n",
        "\n",
        "1) Jeżeli $mlen > k - 2*hlen - 2$ zwróc błąd.\n",
        "\n",
        "2) Oblicz: $lHash = H(\"\")$.\n",
        "\n",
        "3) Wygeneruj tablicę bajtów $PS$ składającą się z $k - mlen - 2*hlen - 2$ bajtów o wartości 0x00. Rozmiar $PS$ może wynosić 0.\n",
        "\n",
        "4) Oblicz: $DB = lHash || PS || 0x01 || M$. Długość $DB$ powinna wynosić $k - hlen - 1$ bajtów.\n",
        "\n",
        "5) Wygeneruj losową tablicę bajtów $seed$ o rozmiarze $hlen$.\n",
        "\n",
        "6) Oblicz: $dbMask = mgf1(seed, k - hlen - 1)$.\n",
        "\n",
        "7) Oblicz: $maskedDB = DB ⊕ dbMask$.\n",
        "\n",
        "8) Oblicz: $seedMask = mgf1(maskedDB, hlen)$.\n",
        "\n",
        "9) Oblicz: $maskedSeed = seed ⊕ seedMask$.\n",
        "\n",
        "10) Oblicz: $EM = 0x00 || maskedSeed || maskedDB$. Długość $EM$ powinna wynosić $k$.\n",
        "\n",
        "11) Zwróc $EM$."
      ],
      "metadata": {
        "id": "YWse9bSFRfmu"
      }
    },
    {
      "cell_type": "markdown",
      "source": [
        "### OAEP decoding"
      ],
      "metadata": {
        "id": "lwJfZ28SUeKC"
      }
    },
    {
      "cell_type": "markdown",
      "source": [
        "Parametry wejściowe:\n",
        "\n",
        "1) $H$ - funkcja skrótu SHA-256, oraz $hlen$ czyli długość zwracanego skrótu w bajtach.\n",
        "\n",
        "2) $k$ - rozmiar EM wyrażony w bajtach.\n",
        "\n",
        "3) $mgf1$ - Mask Generation Function 1.\n",
        "\n",
        "4) $EM$ - bajty zakodowanej wiadomości."
      ],
      "metadata": {
        "id": "i21JfT9TUlXN"
      }
    },
    {
      "cell_type": "markdown",
      "source": [
        "Algorytm:\n",
        "\n",
        "1) Rozpakuj tablicę bajtów $EM$. Jej pierwszy bajt (najbardziej znaczący) przypisz do $Y$. Kolejne $hlen$ bajtów przypisz do $maskedSeed$, resztę do $maskedDB$. Czyli $EM = Y || maskedSeed || maskedDB$.\n",
        "\n",
        "2) Oblicz: $lHash = H(\"\")$.\n",
        "\n",
        "3) Oblicz: $seedMask = mgf1(maskedDB, hlen)$.\n",
        "\n",
        "4) Oblicz: $seed = maskedSeed ⊕ seedMask$.\n",
        "\n",
        "5) Oblicz: $dbMask = mgf1(seed, k - hlen - 1)$.\n",
        "\n",
        "6) Oblicz: $DB = maskedDB ⊕ dbMask$.\n",
        "\n",
        "7) Rozpkauj tablicę bakjtów $DB$. Pierwsze (najbardziej znaczące) $hlen$ bajtów przypisz do zmiennej $lHash'$. Następne $k - mlen - 2*hlen - 2$ bajtów do PS. Kolejny pojedynczy bajt powinien wynosić 0x01, jeżeli jest inaczej zwróć błąd i **zakończ działanie**. Resztę bajtów przypsiz do zmiennej $M$. Czyli: $DB = lHash' || PS || 0x01 || M$. \n",
        "\n",
        "8) Jeżeli $Y \\neq 0x00$ zwróć błąd i **zakończ działanie**.\n",
        "\n",
        "9) Jeżeli $lHash \\neq lHash'$ zwróć błąd i **zakończ działanie**.\n",
        "\n",
        "10) Zwróc $M$."
      ],
      "metadata": {
        "id": "Toe-FHBzU1n-"
      }
    },
    {
      "cell_type": "markdown",
      "source": [
        "**Zadanie 6**\n",
        "\n",
        "Zaproogramuj kodowanie i dekodowanie OAEP. Zmodyfikuj algorytm szyfrowania RSA, tak, aby przed zaszyfrowaniem wiadomość była paddingowana. Zmodyfikuj algorytm deszyfrowania tak, aby po zdeszyfrowaniu konieczne było wywołanie metody dekodowania OAEP w celu odzyskania wiadomości."
      ],
      "metadata": {
        "id": "A0yx2wepX4n1"
      }
    },
    {
      "cell_type": "code",
      "source": [
        "M = \"Ala ma kota\"\n",
        "\n",
        "# Your code here\n",
        "from random import randbytes\n",
        "\n",
        "def OAEP_encode(k, mlen, m, h=sha256, mgf1=MGF1):\n",
        "  if mlen > k - 2 * hlen - 2:\n",
        "    raise Exception(\"Error\")\n",
        "\n",
        "  l_hash = h(b\"\").digest()\n",
        "  PS = bytearray(k - mlen - 2 * hlen - 2)\n",
        "  DB = l_hash + PS + b'\\x01' + m\n",
        "  print(\"len: \", len(DB), k - hlen - 1)\n",
        "  seed = randbytes(hlen)\n",
        "  db_mask = mgf1(seed, k - hlen - 1)\n",
        "  masked_DB = bytearray([DB[i] ^ db_mask[i] for i in range(len(DB))])\n",
        "  seed_mask = mgf1(masked_DB, hlen)\n",
        "  masked_seed = bytearray([seed[i] ^ seed_mask[i] for i in range(len(seed))])\n",
        "  EM = b'\\x00' + masked_seed + masked_DB\n",
        "  print(\"len: \", len(EM), k)\n",
        "  return EM\n",
        "\n",
        "\n",
        "def OAEP_decode(k, mlen, EM, h=sha256, mgf1=MGF1):\n",
        "  y = EM[0]\n",
        "  masked_seed = EM[1 : hlen + 1]\n",
        "  masked_DB = EM[hlen + 1 :]\n",
        "  l_hash = h(b\"\").digest()\n",
        "  seed_mask = mgf1(masked_DB, hlen)\n",
        "  seed = bytearray([masked_seed[i] ^ seed_mask[i] for i in range(len(masked_seed))])\n",
        "  db_mask = mgf1(seed, k - hlen - 1)\n",
        "  DB = bytearray([masked_DB[i] ^ db_mask[i] for i in range(len(masked_DB))])\n",
        "  \n",
        "  l_hash2 = DB[:hlen]\n",
        "  DB = DB[hlen:]\n",
        "\n",
        "  i = 0\n",
        "  while DB[i] != 1: \n",
        "      i += 1\n",
        "  \n",
        "  if DB[i] == 1: \n",
        "      i += 1\n",
        "  \n",
        "  m = DB[i:]\n",
        "  \n",
        "  if y != 0 or l_hash != l_hash2:\n",
        "    raise Exception(\"Error\")\n",
        "\n",
        "  return m\n",
        "\n",
        "\n",
        "def RSA_OAEP_encoding(M, mlen, nlen):\n",
        "  M = OAEP_encode(nlen, mlen, M)\n",
        "  M_encoded = int.from_bytes(M, 'big')\n",
        "  C = pow(M_encoded, e, n)\n",
        "  return C\n",
        "\n",
        "def RSA_OAEP_decoding(C, mlen, nlen):\n",
        "  M_decoded = pow(C, d, n).to_bytes(nlen, 'big')\n",
        "  M = OAEP_decode(nlen, mlen, M_decoded)\n",
        "  return M\n",
        "\n",
        "\n",
        "M_bytes = M.encode('utf-8')\n",
        "print(M_bytes.hex())\n",
        "print(OAEP_encode(100, len(M_bytes), M_bytes).hex())\n",
        "C = RSA_OAEP_encoding(M_bytes, len(M_bytes), 100)\n",
        "M = RSA_OAEP_decoding(C, len(M_bytes), 100).decode('utf-8')\n",
        "print(M)"
      ],
      "metadata": {
        "id": "sA1oCpziYT6z",
        "colab": {
          "base_uri": "https://localhost:8080/"
        },
        "outputId": "3970ac2b-c540-4e3b-e9b0-2e841801d4c4"
      },
      "execution_count": 87,
      "outputs": [
        {
          "output_type": "stream",
          "name": "stdout",
          "text": [
            "416c61206d61206b6f7461\n",
            "len:  67 67\n",
            "len:  100 100\n",
            "00a25d9387681b5a2e9a00e1e4b92dfc8f2450a812a43265d8a1f2a65e5a881a9986483af628e2cb168043e1151adc645a60e53f65eeca092dc76e87cc8186d23b8b2c6efdaea45a4e8d51f5f562fdb1a0183721e41129bfab56a85ef31ca826f2ac4d66\n",
            "len:  67 67\n",
            "len:  100 100\n",
            "Ala ma kota\n"
          ]
        }
      ]
    },
    {
      "cell_type": "markdown",
      "source": [
        "## EMSA - PSS\n",
        "\n",
        "Utworzenie bezpiecznej sygnatury RSA wymaga zastowania algorytmu *Encoding Method for Signature with Appendix - Probabilistic Signature Scheme* ."
      ],
      "metadata": {
        "id": "ug2e_I03YoR1"
      }
    },
    {
      "cell_type": "markdown",
      "source": [
        "### EMSA encoding"
      ],
      "metadata": {
        "id": "KrWpFTRHZSA7"
      }
    },
    {
      "cell_type": "markdown",
      "source": [
        "Parametry wejściowe:\n",
        "\n",
        "1) $H$ - funkcja skrótu SHA-256, oraz $hlen$ czyli długość zwracanego skrótu w bajtach.\n",
        "\n",
        "2) $slen$ - długość soli w bajtach, powinna być równa $hlen$.\n",
        "\n",
        "3) $M$ - bajty wiadomości do podpisania.\n",
        "\n",
        "4) $mgf1$ - Mask Generation Function 1.\n",
        "\n",
        "5) $emBits$ - pożądana długość sygnatury w bitach. Jest to najczęściej długość bitowa liczby modulus $n$ pomniejszona o jeden, czyli w naszym przypadku 2047.\n",
        "\n",
        "6) $emlen$ - długość sygnatury w bajtach, równa długości parametru $n$ wyrażonego w bajtach.\n"
      ],
      "metadata": {
        "id": "bNPN9mqIZT5F"
      }
    },
    {
      "cell_type": "markdown",
      "source": [
        "Algorytm:\n",
        "\n",
        "1) Oblicz: $mHash = H(M)$.\n",
        "\n",
        "2) Jeżeli $emlen < hlen + slen + 2$ **zakończ i zwróć błąd**.\n",
        "\n",
        "3) Wygeneruj tablicę losowych bajtów $salt$ o długości $slen$.\n",
        "\n",
        "4) Oblicz: $M' = 0x00 00 00 00 00 00 00 00 || mHash || salt$. Długość $M'$ to $8 + hlen + slen$.\n",
        "\n",
        "5) Oblicz: $mHash' = H(M')$.\n",
        "\n",
        "6) Wygeneruj tablicę $PS$ składającą się z bajtów 0x00 o długości $emlen - slen - hlen - 2$.\n",
        "\n",
        "7) Oblicz: $DB = PS || 0x01 || salt$. Długość $DB$ powinna wynosić $emlen - hlen - 1$ bajtów.\n",
        "\n",
        "8) Oblicz: $dbMask = mgf1(mHash', emlen - hlen - 1)$.\n",
        "\n",
        "9) Oblicz: $maskedDB = DB ⊕ dbMask$.\n",
        "\n",
        "10) Ustaw $8 * emlen - emBits$ **najbardziej znaczących** bitów $maskedDB$ na wartości 0.\n",
        "\n",
        "11) Oblicz: $EM = maskedDB || mHash' || 0xbc$.\n",
        "\n",
        "12) Zwróć $EM$.\n"
      ],
      "metadata": {
        "id": "6-0Vzuzf_f81"
      }
    },
    {
      "cell_type": "markdown",
      "source": [
        "## EMSA decoding"
      ],
      "metadata": {
        "id": "HWbbbw1DCGpr"
      }
    },
    {
      "cell_type": "markdown",
      "source": [
        "Parametry wejściowe:\n",
        "\n",
        "1) $H$ - funkcja skrótu SHA-256, oraz $hlen$ czyli długość zwracanego skrótu w bajtach.\n",
        "\n",
        "2) $slen$ - długość soli w bajtach, powinna być równa $hlen$.\n",
        "\n",
        "3) $EM$ - sygnatura wiadomości $M$.\n",
        "\n",
        "4) $M$ - bajty wiadomości do weryfikacji.\n",
        "\n",
        "4) $mgf1$ - Mask Generation Function 1.\n",
        "\n",
        "5) $emBits$ - długość sygnatury w bitach. Jest to najczęściej długość bitowa liczby modulus $n$ pomniejszona o jeden, czyli w naszym przypadku 2047.\n",
        "\n",
        "6) $emlen$ - długość sygnatury w bajtach, równa długości parametru $n$ wyrażonego w bajtach."
      ],
      "metadata": {
        "id": "xR6QyzduCIoc"
      }
    },
    {
      "cell_type": "markdown",
      "source": [
        "Algorytm:\n",
        "\n",
        "1) Oblicz: $mHash = H(M)$.\n",
        "\n",
        "2) Jeżeli $emlen < hlen + slen + 2$ **zakończ i zwróć błąd weryfikacji**.\n",
        "\n",
        "3) Jeżeli ostatni bajt (najmniej znaczący) $EM$ nie ma wartości 0xbc **zakończ i zwróć błąd weryfikacji**.\n",
        "\n",
        "4) Podstaw $emlen - hlen - 1$ najbardziej znaczących bajtów do $maskedDB$ oraz kolejne $hlen$ bajtów do $mHash'$.\n",
        "\n",
        "5) Jeżeli $8 * emlen - emBits$ najbardziej znaczących bitów $maskedDB$ nie ma wartości 0, **zakończ i zwróć błąd weryfikacji**.\n",
        "\n",
        "6) Oblicz: $dbMask = mgf1(mHash', emlen - hlen - 1)$.\n",
        "\n",
        "7) Oblicz: $DB = maskedDB ⊕ dbMask$.\n",
        "\n",
        "8) Ustaw $8 * emlen - emBits$ najbardziej znaczących bitów $DB$ na 0.\n",
        "\n",
        "9) Jeżeli $emlen - hlen - slen - 2$ najbardziej znaczących bajtów $DB$ nie posiada wartości 0x00 lub gdy bajt na pozycji $emlen - hlen - slen - 1$ (licząc od najbardziej znaczącego) nie posiada wartości 0x01 **zakończ i zwróć błąd weryfikacji**.\n",
        "\n",
        "10) Przypisz do zmiennej $salt$ dokładnie $slen$ najmniej znaczących bajtów $DB$.\n",
        "\n",
        "11) Oblicz: $M' = 0x00 00 00 00 00 00 00 00 || mHash || salt$. Długość $M'$ to $8 + hlen + slen$.\n",
        "\n",
        "12) Oblicz $mHash'' = H(M')$.\n",
        "\n",
        "13) Jeżeli $mHash' \\neq mHash''$ **zakończ i zwróć błąd weryfikacji**, w przeciwnym razie **weryfikacja powiodła się**.\n"
      ],
      "metadata": {
        "id": "MqZUQgT6CspI"
      }
    },
    {
      "cell_type": "markdown",
      "source": [
        "**Zadanie 7**\n",
        "\n",
        "Zaprogramuj kodowanie i dekodowanie EMSA, a następnie popraw algorytmy tworzenia i weryfikacji podpisu cyfrowego RSA. Tworzenie podpisu powinno wyglądać tak, że wiadomość najpierw jest kodowana z wykorzystaniem EMSA, a później tworzony jest popdis z wykorzystaniem klucza prywatnego. Dekodowanie powinno wyglądać tak, że najpierw używany jest klucz publiczny do odtworzenia podpisu EMSA, a następnie wykorzystywane jest dekodowanie EMSA w celu weryfikacji."
      ],
      "metadata": {
        "id": "wrxJHSkyIvz5"
      }
    },
    {
      "cell_type": "code",
      "source": [
        "m = \"Ala ma podpis\"\n",
        "\n",
        "# Your code here\n",
        "\n",
        "def EMSA_encoding(M, emlen, h=sha256, em_bits=2047, slen=32, mgf1=MGF1):\n",
        "  M_hash = h(M).digest()\n",
        "\n",
        "  if emlen < hlen + slen + 2:\n",
        "      raise Exception(\"Error\")\n",
        "\n",
        "  salt = randbytes(slen)\n",
        "  M_p =b'\\x00' * 8 + M_hash + salt\n",
        "  print(len(M_p), 8 + hlen + slen)\n",
        "  M_hash_p = h(M_p).digest()\n",
        "  PS = bytearray(emlen - slen - hlen - 2)\n",
        "  DB = PS + b'\\x01' + salt\n",
        "  DB_mask = mgf1(M_hash_p, emlen - hlen - 1)\n",
        "  masked_DB = bytearray([DB[i] ^ DB_mask[i] for i in range(len(DB))])\n",
        "  masked_DB[:8 * emlen - em_bits] = b'\\x00' * (8 * emlen - em_bits)\n",
        "  return masked_DB + M_hash_p + b'\\xbc'\n",
        "\n",
        "\n",
        "def EMSA_decoding(EM, M, emlen, h=sha256, em_bits=2047, slen=32, mgf1=MGF1):\n",
        "  M_hash = h(M).digest()\n",
        "\n",
        "  if emlen < hlen + slen + 2:\n",
        "    raise Exception(\"Error\")\n",
        "  if EM[-1] != 188:\n",
        "    raise Exception(\"Error\")\n",
        "\n",
        "  masked_DB = EM[: emlen - hlen - 1]\n",
        "  EM = EM[emlen - hlen - 1:]\n",
        "  \n",
        "  m_hash2 = EM[:hlen]\n",
        "  EM = EM[hlen:]\n",
        "  \n",
        "  if masked_DB[:8 * emlen - em_bits] != b'\\x00' * (8 * emlen - em_bits):\n",
        "    raise Exception(\"Error\")\n",
        "\n",
        "  DB_mask = mgf1(m_hash2, emlen - hlen - 1)\n",
        "  DB = bytearray([masked_DB[i] ^ DB_mask[i] for i in range(len(masked_DB))])\n",
        "  DB[: 8 * emlen - em_bits] = b'\\x00' * (8 * emlen - em_bits)\n",
        "\n",
        "  if DB[:emlen - hlen - slen - 2] != b'\\x00' * (emlen - hlen - slen - 2) or DB[emlen - hlen - slen - 2] != 1:\n",
        "    raise Exception(\"Error\")\n",
        "\n",
        "  salt = DB[-slen:]\n",
        "  m2 = b'\\x00' * 8 + M_hash + salt\n",
        "  print(len(m2), 8 + hlen + slen)\n",
        "  m_hash3 = h(m2).digest()\n",
        "\n",
        "  if(m_hash2 != m_hash3):\n",
        "    raise Exception(\"Error\")\n",
        "  print(\"OK\")\n",
        "\n",
        "\n",
        "m1 = \"Bob ma podpis\"\n",
        "\n",
        "EM = EMSA_encoding(m.encode('utf-8'), 100)\n",
        "EMSA_decoding(EM, m.encode('utf-8'), 100)\n",
        "\n",
        "EM = EMSA_encoding(m1.encode('utf-8'), 256)\n",
        "EMSA_decoding(EM, m1.encode('utf-8'), 256)"
      ],
      "metadata": {
        "id": "S-TbQA4NJrl3",
        "colab": {
          "base_uri": "https://localhost:8080/"
        },
        "outputId": "32172b1c-c02c-46c0-9620-56c6e4d7a211"
      },
      "execution_count": 85,
      "outputs": [
        {
          "output_type": "stream",
          "name": "stdout",
          "text": [
            "72 72\n",
            "72 72\n",
            "OK\n",
            "72 72\n",
            "72 72\n",
            "OK\n"
          ]
        }
      ]
    },
    {
      "cell_type": "code",
      "source": [
        "def EMSA_sign(m, d, n, l):\n",
        "  encoded = EMSA_encoding(m, l)\n",
        "  h = int.from_bytes(encoded, 'big')\n",
        "  sig = pow(h, d, n)\n",
        "  return m, sig\n",
        "\n",
        "def EMSA_verify(m, sig, e, n, l):\n",
        "  ver = pow(sig, e, n)\n",
        "  return EMSA_decoding(ver.to_bytes(ver.bit_length() / 8, 'big'), m, l)\n",
        "\n",
        "m, sig = EMSA_sign(M.encode('utf-8'), d, n, 100)\n",
        "print(EMSA_verify(m, sig, e, n, 100))"
      ],
      "metadata": {
        "colab": {
          "base_uri": "https://localhost:8080/"
        },
        "id": "wdMDZ-zLqx2B",
        "outputId": "e5d19b5f-e4a4-42f4-b21b-a7c92cfb212e"
      },
      "execution_count": 98,
      "outputs": [
        {
          "output_type": "stream",
          "name": "stdout",
          "text": [
            "72 72\n",
            "72 72\n",
            "OK\n",
            "None\n"
          ]
        }
      ]
    },
    {
      "cell_type": "markdown",
      "source": [
        "## RSA - KEM\n",
        "\n",
        "RSA - KEM, czyli z ang. *Key Encapsulation Mechanism* to prosty algorytm dedykowany do wymiany klucza symetrycznego. Obie strony dysponują uzgodnioną funkcją skótu H. Instancja, która chce **otrzymać** tajny klucz do komunikacji symetrycznej generuje klucze RSA i udostępnia swój klucz publiczny. Instancja, która chce wygenerować tajny klucz do komunikacji symetrycznej dysponuje kluczem publicznym instancji, która chce go otrzymać."
      ],
      "metadata": {
        "id": "d7txLS64JZI-"
      }
    },
    {
      "cell_type": "markdown",
      "source": [
        "Instancja generująca klucz symetryczny:\n",
        "\n",
        "1) Znajdź losową liczbę $RAND$ spełniającą warunki OAEP.\n",
        "\n",
        "2) Oblicz: $KEY = H(RAND)$. Jeżeli trzeba, przytnij $KEY$ do odpowiedniej długości.\n",
        "\n",
        "3) Oblicz: $CIPHERED\\_KEY = RSA\\_OAEP\\_ENCODING(KEY, (e, n))$.\n",
        "\n",
        "4) Wyślij $CIPHERED\\_KEY$."
      ],
      "metadata": {
        "id": "tl7cu30PJ1lk"
      }
    },
    {
      "cell_type": "markdown",
      "source": [
        "Instancja otrzymująca zaszyfrowany klucz symetryczny:\n",
        "\n",
        "1) Oblicz: $KEY = RSA\\_OAEP\\_DECODING(CIPHERED\\_KEY, (d, n))$\n",
        "\n",
        "2) Jeżeli trzeba przytnij $KEY$ do odpowiedniej długości."
      ],
      "metadata": {
        "id": "oFB9JAwULw70"
      }
    },
    {
      "cell_type": "markdown",
      "source": [
        "Np. AES występuje w wersji 128b, 192b i 256b. Jeżeli jako H przyjmiemy więc SHA-256, nie trzeba przycinać klucza dla algorytmu AES-256. W przeciwnym razie należy klucz odpowiednio przyciąć (z lewej lub prawej, byle obie strony tak samo) i to ta wartość staje się kluczem symetrycznym."
      ],
      "metadata": {
        "id": "386c_pDZMSRG"
      }
    },
    {
      "cell_type": "markdown",
      "source": [
        "**Zadanie 8**\n",
        "\n",
        "Zasymuluj takową wymianę (bez przycinania klucza)."
      ],
      "metadata": {
        "id": "7N66NPBBMpLS"
      }
    },
    {
      "cell_type": "code",
      "source": [
        "# Your code here\n",
        "def encrypt_KEM(l):\n",
        "  rand = randbytes(320)\n",
        "  key = sha256(rand).digest()\n",
        "  ck = RSA_OAEP_encoding(key, 32, l)\n",
        "  return key, ck\n",
        "\n",
        "def decrypt_KEM(ck, l):\n",
        "  key = RSA_OAEP_decoding(ck, 32, l)\n",
        "  return key\n",
        "\n",
        "key, ck = encrypt_KEM(256)\n",
        "print(key.hex(), ck)\n",
        "\n",
        "key2 = decrypt_KEM(ck, 256)\n",
        "print(key2.hex())"
      ],
      "metadata": {
        "id": "Td_Qg2zlMuRt",
        "colab": {
          "base_uri": "https://localhost:8080/"
        },
        "outputId": "2a08d613-49b5-4a5e-c23a-9a536c718136"
      },
      "execution_count": 103,
      "outputs": [
        {
          "output_type": "stream",
          "name": "stdout",
          "text": [
            "len:  223 223\n",
            "len:  256 256\n",
            "499485a4372d02401bca62a96dae4c29cfc1c78751e4054a9fcec253ebfceae3 22656369248149533598373079262121693902270021244415166995335487695332145035347131142135575208517109305065807164951482984954128300851253540500264538865910425531535464346503678583545301183582821968797064669093487453000828886069413914188600639845608546048838731536252867045054668863933747649241669088520836085130111179216359392724030445913673627367001994415557683624262034412960258113875926620303436136011709012449918896818228434134340129266403453456378742887732537251252306277938043445686774918402991750261164828507516531585416230539180913589924876194504303109629195889350322182685038148486828153640937487376809320797845\n",
            "499485a4372d02401bca62a96dae4c29cfc1c78751e4054a9fcec253ebfceae3\n"
          ]
        }
      ]
    },
    {
      "cell_type": "code",
      "source": [],
      "metadata": {
        "id": "vgpLlGp4uLuV"
      },
      "execution_count": null,
      "outputs": []
    }
  ]
}